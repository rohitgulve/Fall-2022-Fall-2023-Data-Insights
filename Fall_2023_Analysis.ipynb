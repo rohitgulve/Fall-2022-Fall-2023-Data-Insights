{
 "cells": [
  {
   "cell_type": "code",
   "execution_count": 1,
   "id": "a038819c",
   "metadata": {},
   "outputs": [],
   "source": [
    "import pandas as pd \n",
    "import numpy as np\n",
    "import matplotlib.pyplot as plt "
   ]
  },
  {
   "cell_type": "markdown",
   "id": "9ce48070",
   "metadata": {},
   "source": [
    "# Loading the Dataset "
   ]
  },
  {
   "cell_type": "code",
   "execution_count": 2,
   "id": "9c01e612",
   "metadata": {},
   "outputs": [
    {
     "name": "stdout",
     "output_type": "stream",
     "text": [
      "         Term   ID Subject Code  Course Number\n",
      "0   Fall 2023  182          ACC            100\n",
      "1   Fall 2023  172          ACC            100\n",
      "2   Fall 2023   80          BIO            202\n",
      "3   Fall 2023   76          BIO            202\n",
      "4   Fall 2023   78          BIO            202\n",
      "..        ...  ...          ...            ...\n",
      "92  Fall 2023  149          WRT            200\n",
      "93  Fall 2023   53          WRT            101\n",
      "94  Fall 2023    3          WRT            202\n",
      "95  Fall 2023  182          WRT            100\n",
      "96  Fall 2023  111          KOR            122\n",
      "\n",
      "[97 rows x 4 columns]\n"
     ]
    }
   ],
   "source": [
    "df_Fall_2023 = pd.read_excel('Data set.xlsx', sheet_name = 'Fall 2023')\n",
    "print(df_Fall_2023)"
   ]
  },
  {
   "cell_type": "code",
   "execution_count": 4,
   "id": "130f84aa",
   "metadata": {},
   "outputs": [
    {
     "data": {
      "text/html": [
       "<div>\n",
       "<style scoped>\n",
       "    .dataframe tbody tr th:only-of-type {\n",
       "        vertical-align: middle;\n",
       "    }\n",
       "\n",
       "    .dataframe tbody tr th {\n",
       "        vertical-align: top;\n",
       "    }\n",
       "\n",
       "    .dataframe thead th {\n",
       "        text-align: right;\n",
       "    }\n",
       "</style>\n",
       "<table border=\"1\" class=\"dataframe\">\n",
       "  <thead>\n",
       "    <tr style=\"text-align: right;\">\n",
       "      <th></th>\n",
       "      <th>Term</th>\n",
       "      <th>ID</th>\n",
       "      <th>Subject Code</th>\n",
       "      <th>Course Number</th>\n",
       "    </tr>\n",
       "  </thead>\n",
       "  <tbody>\n",
       "    <tr>\n",
       "      <th>0</th>\n",
       "      <td>Fall 2023</td>\n",
       "      <td>182</td>\n",
       "      <td>ACC</td>\n",
       "      <td>100</td>\n",
       "    </tr>\n",
       "    <tr>\n",
       "      <th>1</th>\n",
       "      <td>Fall 2023</td>\n",
       "      <td>172</td>\n",
       "      <td>ACC</td>\n",
       "      <td>100</td>\n",
       "    </tr>\n",
       "    <tr>\n",
       "      <th>2</th>\n",
       "      <td>Fall 2023</td>\n",
       "      <td>80</td>\n",
       "      <td>BIO</td>\n",
       "      <td>202</td>\n",
       "    </tr>\n",
       "    <tr>\n",
       "      <th>3</th>\n",
       "      <td>Fall 2023</td>\n",
       "      <td>76</td>\n",
       "      <td>BIO</td>\n",
       "      <td>202</td>\n",
       "    </tr>\n",
       "    <tr>\n",
       "      <th>4</th>\n",
       "      <td>Fall 2023</td>\n",
       "      <td>78</td>\n",
       "      <td>BIO</td>\n",
       "      <td>202</td>\n",
       "    </tr>\n",
       "    <tr>\n",
       "      <th>5</th>\n",
       "      <td>Fall 2023</td>\n",
       "      <td>81</td>\n",
       "      <td>BIO</td>\n",
       "      <td>202</td>\n",
       "    </tr>\n",
       "    <tr>\n",
       "      <th>6</th>\n",
       "      <td>Fall 2023</td>\n",
       "      <td>83</td>\n",
       "      <td>BIO</td>\n",
       "      <td>202</td>\n",
       "    </tr>\n",
       "    <tr>\n",
       "      <th>7</th>\n",
       "      <td>Fall 2023</td>\n",
       "      <td>84</td>\n",
       "      <td>BIO</td>\n",
       "      <td>202</td>\n",
       "    </tr>\n",
       "    <tr>\n",
       "      <th>8</th>\n",
       "      <td>Fall 2023</td>\n",
       "      <td>165</td>\n",
       "      <td>BIO</td>\n",
       "      <td>100</td>\n",
       "    </tr>\n",
       "    <tr>\n",
       "      <th>9</th>\n",
       "      <td>Fall 2023</td>\n",
       "      <td>166</td>\n",
       "      <td>BIO</td>\n",
       "      <td>100</td>\n",
       "    </tr>\n",
       "  </tbody>\n",
       "</table>\n",
       "</div>"
      ],
      "text/plain": [
       "        Term   ID Subject Code  Course Number\n",
       "0  Fall 2023  182          ACC            100\n",
       "1  Fall 2023  172          ACC            100\n",
       "2  Fall 2023   80          BIO            202\n",
       "3  Fall 2023   76          BIO            202\n",
       "4  Fall 2023   78          BIO            202\n",
       "5  Fall 2023   81          BIO            202\n",
       "6  Fall 2023   83          BIO            202\n",
       "7  Fall 2023   84          BIO            202\n",
       "8  Fall 2023  165          BIO            100\n",
       "9  Fall 2023  166          BIO            100"
      ]
     },
     "execution_count": 4,
     "metadata": {},
     "output_type": "execute_result"
    }
   ],
   "source": [
    "df_Fall_2023.head(10)"
   ]
  },
  {
   "cell_type": "markdown",
   "id": "7d2073bc",
   "metadata": {},
   "source": [
    "ACC: Accounting\n",
    "\n",
    "BIO: Biology\n",
    "\n",
    "KOR: Korean\n",
    "\n",
    "MAT: Mathematics\n",
    "\n",
    "PSY: Psychology\n",
    "\n",
    "PHY: Physics\n",
    "\n",
    "REA: Reading or Real Estate\n",
    "\n",
    "WEL: Wellness or Welding\n",
    "\n",
    "WRT: Writing"
   ]
  },
  {
   "cell_type": "markdown",
   "id": "2d806a7b",
   "metadata": {},
   "source": [
    "# Preprocessing Steps "
   ]
  },
  {
   "cell_type": "code",
   "execution_count": 5,
   "id": "cadb1969",
   "metadata": {},
   "outputs": [
    {
     "data": {
      "text/plain": [
       "Term             0\n",
       "ID               0\n",
       "Subject Code     0\n",
       "Course Number    0\n",
       "dtype: int64"
      ]
     },
     "execution_count": 5,
     "metadata": {},
     "output_type": "execute_result"
    }
   ],
   "source": [
    "# check null values\n",
    "df_Fall_2023.isna().sum()"
   ]
  },
  {
   "cell_type": "code",
   "execution_count": 6,
   "id": "13f80751",
   "metadata": {},
   "outputs": [
    {
     "name": "stdout",
     "output_type": "stream",
     "text": [
      "<class 'pandas.core.frame.DataFrame'>\n",
      "RangeIndex: 97 entries, 0 to 96\n",
      "Data columns (total 4 columns):\n",
      " #   Column         Non-Null Count  Dtype \n",
      "---  ------         --------------  ----- \n",
      " 0   Term           97 non-null     object\n",
      " 1   ID             97 non-null     int64 \n",
      " 2   Subject Code   97 non-null     object\n",
      " 3   Course Number  97 non-null     int64 \n",
      "dtypes: int64(2), object(2)\n",
      "memory usage: 3.2+ KB\n"
     ]
    }
   ],
   "source": [
    "df_Fall_2023.info()"
   ]
  },
  {
   "cell_type": "code",
   "execution_count": null,
   "id": "2929bd90",
   "metadata": {},
   "outputs": [],
   "source": []
  },
  {
   "cell_type": "code",
   "execution_count": 7,
   "id": "27184905",
   "metadata": {},
   "outputs": [
    {
     "name": "stdout",
     "output_type": "stream",
     "text": [
      "3\n"
     ]
    }
   ],
   "source": [
    "# Check for duplicates\n",
    "print(df_Fall_2023.duplicated().sum())\n"
   ]
  },
  {
   "cell_type": "code",
   "execution_count": 8,
   "id": "08349c13",
   "metadata": {},
   "outputs": [
    {
     "name": "stdout",
     "output_type": "stream",
     "text": [
      "         Term   ID Subject Code  Course Number\n",
      "29  Fall 2023  155          MAT            101\n",
      "70  Fall 2023  180          REA            105\n",
      "96  Fall 2023  111          KOR            122\n"
     ]
    }
   ],
   "source": [
    "duplicate_rows = df_Fall_2023[df_Fall_2023.duplicated()]\n",
    "print(duplicate_rows)"
   ]
  },
  {
   "cell_type": "code",
   "execution_count": 9,
   "id": "12bc120d",
   "metadata": {},
   "outputs": [],
   "source": [
    "# Drop the duplicates\n",
    "df_Fall_2023 = df_Fall_2023.drop_duplicates()"
   ]
  },
  {
   "cell_type": "code",
   "execution_count": null,
   "id": "733a7246",
   "metadata": {},
   "outputs": [],
   "source": []
  },
  {
   "cell_type": "code",
   "execution_count": 10,
   "id": "261c8fe9",
   "metadata": {},
   "outputs": [
    {
     "name": "stdout",
     "output_type": "stream",
     "text": [
      "Empty DataFrame\n",
      "Columns: [Term, ID, Subject Code, Course Number]\n",
      "Index: []\n"
     ]
    }
   ],
   "source": [
    "duplicate_rows = df_Fall_2023[df_Fall_2023.duplicated()]\n",
    "print(duplicate_rows)"
   ]
  },
  {
   "cell_type": "code",
   "execution_count": 25,
   "id": "2b80ea62",
   "metadata": {},
   "outputs": [],
   "source": [
    "df_Fall_2023.to_excel(\"Fall_2023_Analysis.xlsx\")"
   ]
  },
  {
   "cell_type": "code",
   "execution_count": null,
   "id": "fe8b765e",
   "metadata": {},
   "outputs": [],
   "source": []
  },
  {
   "cell_type": "code",
   "execution_count": 12,
   "id": "be6e2a54",
   "metadata": {},
   "outputs": [
    {
     "data": {
      "text/plain": [
       "MAT     29\n",
       "WRT     21\n",
       "PSY     11\n",
       "PHY     11\n",
       "BIO      9\n",
       "REA      4\n",
       "WEL      4\n",
       "ACC      2\n",
       "KOR      2\n",
       "KOR      1\n",
       "Name: Subject Code, dtype: int64"
      ]
     },
     "execution_count": 12,
     "metadata": {},
     "output_type": "execute_result"
    }
   ],
   "source": [
    "df_Fall_2023['Subject Code'].value_counts()"
   ]
  },
  {
   "cell_type": "code",
   "execution_count": 13,
   "id": "cfb81e33",
   "metadata": {},
   "outputs": [
    {
     "data": {
      "text/plain": [
       "101    41\n",
       "202    21\n",
       "100    13\n",
       "102     8\n",
       "200     6\n",
       "105     3\n",
       "122     1\n",
       "300     1\n",
       "Name: Course Number, dtype: int64"
      ]
     },
     "execution_count": 13,
     "metadata": {},
     "output_type": "execute_result"
    }
   ],
   "source": [
    "df_Fall_2023['Course Number'].value_counts()"
   ]
  },
  {
   "cell_type": "code",
   "execution_count": 14,
   "id": "2465f42c",
   "metadata": {},
   "outputs": [],
   "source": [
    "df_Fall_2023['Subject Code'] = df_Fall_2023['Subject Code'].str.strip()"
   ]
  },
  {
   "cell_type": "code",
   "execution_count": 15,
   "id": "60474566",
   "metadata": {},
   "outputs": [
    {
     "data": {
      "text/plain": [
       "MAT    29\n",
       "WRT    21\n",
       "PSY    11\n",
       "PHY    11\n",
       "BIO     9\n",
       "REA     4\n",
       "WEL     4\n",
       "KOR     3\n",
       "ACC     2\n",
       "Name: Subject Code, dtype: int64"
      ]
     },
     "execution_count": 15,
     "metadata": {},
     "output_type": "execute_result"
    }
   ],
   "source": [
    "df_Fall_2023['Subject Code'].value_counts()"
   ]
  },
  {
   "cell_type": "code",
   "execution_count": 30,
   "id": "a5344647",
   "metadata": {},
   "outputs": [
    {
     "data": {
      "text/plain": [
       "array(['ACC', 'BIO', 'KOR', 'MAT', 'PSY', 'PHY', 'REA', 'WEL', 'WRT'],\n",
       "      dtype=object)"
      ]
     },
     "execution_count": 30,
     "metadata": {},
     "output_type": "execute_result"
    }
   ],
   "source": [
    "df_Fall_2023['Subject Code'].unique()"
   ]
  },
  {
   "cell_type": "code",
   "execution_count": 16,
   "id": "747dc033",
   "metadata": {},
   "outputs": [
    {
     "name": "stdout",
     "output_type": "stream",
     "text": [
      "Course Number\n",
      "100    5\n",
      "101    4\n",
      "102    1\n",
      "105    3\n",
      "122    1\n",
      "200    5\n",
      "202    3\n",
      "300    1\n",
      "Name: Subject Code, dtype: int64\n"
     ]
    }
   ],
   "source": [
    "# Group by Course Number and check unique Subject Codes\n",
    "cross_listed_courses = df_Fall_2023.groupby(\"Course Number\")[\"Subject Code\"].nunique()\n",
    "print(cross_listed_courses)"
   ]
  },
  {
   "cell_type": "code",
   "execution_count": null,
   "id": "5b5d374e",
   "metadata": {},
   "outputs": [],
   "source": []
  },
  {
   "cell_type": "code",
   "execution_count": 17,
   "id": "d4d22ee1",
   "metadata": {},
   "outputs": [
    {
     "name": "stdout",
     "output_type": "stream",
     "text": [
      "Cross-listed courses (multiple subject codes per course number):\n",
      "Course Number\n",
      "100    5\n",
      "101    4\n",
      "105    3\n",
      "200    5\n",
      "202    3\n",
      "Name: Subject Code, dtype: int64\n"
     ]
    }
   ],
   "source": [
    "# Filter for cross-listed courses (where count of Subject Codes > 1)\n",
    "cross_listed = cross_listed_courses[cross_listed_courses > 1]\n",
    "print(\"Cross-listed courses (multiple subject codes per course number):\")\n",
    "print(cross_listed)\n"
   ]
  },
  {
   "cell_type": "code",
   "execution_count": 18,
   "id": "ae57b8ba",
   "metadata": {},
   "outputs": [
    {
     "name": "stdout",
     "output_type": "stream",
     "text": [
      "\n",
      "Detailed view of cross-listed courses:\n",
      "         Term   ID Subject Code  Course Number\n",
      "0   Fall 2023  182          ACC            100\n",
      "1   Fall 2023  172          ACC            100\n",
      "2   Fall 2023   80          BIO            202\n",
      "3   Fall 2023   76          BIO            202\n",
      "4   Fall 2023   78          BIO            202\n",
      "..        ...  ...          ...            ...\n",
      "91  Fall 2023  147          WRT            105\n",
      "92  Fall 2023  149          WRT            200\n",
      "93  Fall 2023   53          WRT            101\n",
      "94  Fall 2023    3          WRT            202\n",
      "95  Fall 2023  182          WRT            100\n",
      "\n",
      "[84 rows x 4 columns]\n"
     ]
    }
   ],
   "source": [
    "# Detailed view of cross-listed courses\n",
    "detailed_cross_listed = df_Fall_2023[df_Fall_2023[\"Course Number\"].isin(cross_listed.index)]\n",
    "print(\"\\nDetailed view of cross-listed courses:\")\n",
    "print(detailed_cross_listed)\n"
   ]
  },
  {
   "cell_type": "code",
   "execution_count": null,
   "id": "fa2c2a08",
   "metadata": {},
   "outputs": [],
   "source": []
  },
  {
   "cell_type": "code",
   "execution_count": 19,
   "id": "472e88d8",
   "metadata": {},
   "outputs": [
    {
     "data": {
      "image/png": "[encoded data removed]",
      "text/plain": [
       "<Figure size 720x432 with 1 Axes>"
      ]
     },
     "metadata": {
      "needs_background": "light"
     },
     "output_type": "display_data"
    }
   ],
   "source": [
    "# Visualization\n",
    "import matplotlib.pyplot as plt\n",
    "\n",
    "# Count unique Subject Codes per Course Number\n",
    "unique_subjects_per_course = df_Fall_2023.groupby(\"Course Number\")[\"Subject Code\"].nunique()\n",
    "\n",
    "# Plot a bar chart\n",
    "unique_subjects_per_course.plot(kind=\"bar\", figsize=(10, 6), color=\"skyblue\")\n",
    "plt.title(\"Number of Unique Subject Codes per Course Number\")\n",
    "plt.xlabel(\"Course Number\")\n",
    "plt.ylabel(\"Number of Unique Subject Codes\")\n",
    "plt.xticks(rotation=45)\n",
    "plt.tight_layout()\n",
    "plt.show()\n"
   ]
  },
  {
   "cell_type": "code",
   "execution_count": 20,
   "id": "b6fb1e97",
   "metadata": {},
   "outputs": [
    {
     "name": "stdout",
     "output_type": "stream",
     "text": [
      "  Subject Code                                      Course Number\n",
      "0          ACC                                         [100, 100]\n",
      "1          BIO      [202, 202, 202, 202, 202, 202, 100, 100, 100]\n",
      "2          KOR                                    [200, 122, 200]\n",
      "3          MAT  [300, 101, 101, 101, 101, 101, 101, 101, 101, ...\n",
      "4          PHY  [101, 101, 101, 101, 101, 101, 101, 101, 101, ...\n",
      "5          PSY  [101, 102, 102, 102, 200, 102, 102, 102, 102, ...\n",
      "6          REA                               [105, 100, 100, 100]\n",
      "7          WEL                               [100, 100, 100, 100]\n",
      "8          WRT  [202, 101, 101, 101, 101, 202, 101, 101, 202, ...\n"
     ]
    }
   ],
   "source": [
    "# Group by 'Subject Code' and list all 'Course Number'\n",
    "grouped = df_Fall_2023.groupby('Subject Code')['Course Number'].apply(list).reset_index()\n",
    "\n",
    "print(grouped)\n"
   ]
  },
  {
   "cell_type": "code",
   "execution_count": null,
   "id": "b5a6f8dd",
   "metadata": {},
   "outputs": [],
   "source": []
  },
  {
   "cell_type": "code",
   "execution_count": 21,
   "id": "e1822011",
   "metadata": {},
   "outputs": [
    {
     "name": "stdout",
     "output_type": "stream",
     "text": [
      "  Subject Code              Course Number\n",
      "0          ACC                      [100]\n",
      "1          BIO                 [202, 100]\n",
      "2          KOR                 [200, 122]\n",
      "3          MAT       [200, 202, 300, 101]\n",
      "4          PHY                 [200, 101]\n",
      "5          PSY       [200, 105, 101, 102]\n",
      "6          REA                 [105, 100]\n",
      "7          WEL                      [100]\n",
      "8          WRT  [100, 101, 200, 105, 202]\n"
     ]
    }
   ],
   "source": [
    "# Group by 'Subject Code' and get unique course numbers\n",
    "grouped = df_Fall_2023.groupby('Subject Code')['Course Number'].apply(lambda x: list(set(x))).reset_index()\n",
    "\n",
    "print(grouped)\n"
   ]
  },
  {
   "cell_type": "code",
   "execution_count": 22,
   "id": "bab2dd78",
   "metadata": {},
   "outputs": [
    {
     "name": "stdout",
     "output_type": "stream",
     "text": [
      "  Subject Code  Course Number\n",
      "0          ACC            100\n",
      "1          BIO            202\n",
      "2          KOR            200\n",
      "3          MAT            101\n",
      "4          PHY            101\n",
      "5          PSY            102\n",
      "6          REA            100\n",
      "7          WEL            100\n",
      "8          WRT            101\n"
     ]
    }
   ],
   "source": [
    "# Find the most frequent course number for each subject\n",
    "most_frequent = df_Fall_2023.groupby(['Subject Code'])['Course Number'].agg(lambda x: x.value_counts().idxmax()).reset_index()\n",
    "\n",
    "print(most_frequent)\n"
   ]
  },
  {
   "cell_type": "code",
   "execution_count": null,
   "id": "43b7fe4c",
   "metadata": {},
   "outputs": [],
   "source": []
  }
 ],
 "metadata": {
  "kernelspec": {
   "display_name": "Python 3 (ipykernel)",
   "language": "python",
   "name": "python3"
  },
  "language_info": {
   "codemirror_mode": {
    "name": "ipython",
    "version": 3
   },
   "file_extension": ".py",
   "mimetype": "text/x-python",
   "name": "python",
   "nbconvert_exporter": "python",
   "pygments_lexer": "ipython3",
   "version": "3.9.12"
  }
 },
 "nbformat": 4,
 "nbformat_minor": 5
}
