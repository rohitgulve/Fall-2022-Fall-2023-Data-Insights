{
 "cells": [
  {
   "cell_type": "code",
   "execution_count": 1,
   "id": "bf91767e",
   "metadata": {},
   "outputs": [],
   "source": [
    "import pandas as pd \n",
    "import numpy as np\n",
    "import matplotlib.pyplot as plt "
   ]
  },
  {
   "cell_type": "markdown",
   "id": "a6650d05",
   "metadata": {},
   "source": [
    "# Loading Dataaset"
   ]
  },
  {
   "cell_type": "code",
   "execution_count": 2,
   "id": "928b1198",
   "metadata": {},
   "outputs": [
    {
     "name": "stdout",
     "output_type": "stream",
     "text": [
      "          Term   ID Gender  Age Minority Students\n",
      "0    Fall 2022    1      F   21                No\n",
      "1    Fall 2022    2      F   22                No\n",
      "2    Fall 2022    3      F   24               Yes\n",
      "3    Fall 2022    4      F   26               Yes\n",
      "4    Fall 2022    5      M   22                No\n",
      "..         ...  ...    ...  ...               ...\n",
      "197  Fall 2022  196      F   36               Yes\n",
      "198  Fall 2022  197      M   18                No\n",
      "199  Fall 2022  198      F   34               Yes\n",
      "200  Fall 2022  199      M   36                No\n",
      "201  Fall 2022  200      F   58               Yes\n",
      "\n",
      "[202 rows x 5 columns]\n"
     ]
    }
   ],
   "source": [
    "# Loading Dataset\n",
    "df_Fall_2022 = pd.read_excel('Data set.xlsx', sheet_name = 'Fall 2022')\n",
    "print(df_Fall_2022)"
   ]
  },
  {
   "cell_type": "code",
   "execution_count": null,
   "id": "e6a39a48",
   "metadata": {},
   "outputs": [],
   "source": []
  },
  {
   "cell_type": "markdown",
   "id": "0dbb3439",
   "metadata": {},
   "source": [
    "# Data Cleaning and Preprocessing:\n",
    "\n",
    "    -- Handle duplicates in the datasets.\n",
    "    \n",
    "    -- Address null values.\n",
    "    \n",
    "    -- Format inconsistencies in categorical data (e.g., stripping whitespace).\n"
   ]
  },
  {
   "cell_type": "code",
   "execution_count": 3,
   "id": "696a9d40",
   "metadata": {
    "scrolled": true
   },
   "outputs": [
    {
     "name": "stdout",
     "output_type": "stream",
     "text": [
      "<class 'pandas.core.frame.DataFrame'>\n",
      "RangeIndex: 202 entries, 0 to 201\n",
      "Data columns (total 5 columns):\n",
      " #   Column             Non-Null Count  Dtype \n",
      "---  ------             --------------  ----- \n",
      " 0   Term               202 non-null    object\n",
      " 1   ID                 202 non-null    int64 \n",
      " 2   Gender             202 non-null    object\n",
      " 3   Age                202 non-null    int64 \n",
      " 4   Minority Students  202 non-null    object\n",
      "dtypes: int64(2), object(3)\n",
      "memory usage: 8.0+ KB\n"
     ]
    }
   ],
   "source": [
    "# Summary of the Dataset \n",
    "df_Fall_2022.info()"
   ]
  },
  {
   "cell_type": "markdown",
   "id": "bd508582",
   "metadata": {},
   "source": []
  },
  {
   "cell_type": "code",
   "execution_count": 4,
   "id": "036bb80e",
   "metadata": {},
   "outputs": [
    {
     "data": {
      "text/html": [
       "<div>\n",
       "<style scoped>\n",
       "    .dataframe tbody tr th:only-of-type {\n",
       "        vertical-align: middle;\n",
       "    }\n",
       "\n",
       "    .dataframe tbody tr th {\n",
       "        vertical-align: top;\n",
       "    }\n",
       "\n",
       "    .dataframe thead th {\n",
       "        text-align: right;\n",
       "    }\n",
       "</style>\n",
       "<table border=\"1\" class=\"dataframe\">\n",
       "  <thead>\n",
       "    <tr style=\"text-align: right;\">\n",
       "      <th></th>\n",
       "      <th>ID</th>\n",
       "      <th>Age</th>\n",
       "    </tr>\n",
       "  </thead>\n",
       "  <tbody>\n",
       "    <tr>\n",
       "      <th>count</th>\n",
       "      <td>202.000000</td>\n",
       "      <td>202.000000</td>\n",
       "    </tr>\n",
       "    <tr>\n",
       "      <th>mean</th>\n",
       "      <td>100.945545</td>\n",
       "      <td>27.896040</td>\n",
       "    </tr>\n",
       "    <tr>\n",
       "      <th>std</th>\n",
       "      <td>57.865877</td>\n",
       "      <td>8.410139</td>\n",
       "    </tr>\n",
       "    <tr>\n",
       "      <th>min</th>\n",
       "      <td>1.000000</td>\n",
       "      <td>18.000000</td>\n",
       "    </tr>\n",
       "    <tr>\n",
       "      <th>25%</th>\n",
       "      <td>51.250000</td>\n",
       "      <td>22.000000</td>\n",
       "    </tr>\n",
       "    <tr>\n",
       "      <th>50%</th>\n",
       "      <td>101.500000</td>\n",
       "      <td>25.000000</td>\n",
       "    </tr>\n",
       "    <tr>\n",
       "      <th>75%</th>\n",
       "      <td>150.750000</td>\n",
       "      <td>32.000000</td>\n",
       "    </tr>\n",
       "    <tr>\n",
       "      <th>max</th>\n",
       "      <td>200.000000</td>\n",
       "      <td>58.000000</td>\n",
       "    </tr>\n",
       "  </tbody>\n",
       "</table>\n",
       "</div>"
      ],
      "text/plain": [
       "               ID         Age\n",
       "count  202.000000  202.000000\n",
       "mean   100.945545   27.896040\n",
       "std     57.865877    8.410139\n",
       "min      1.000000   18.000000\n",
       "25%     51.250000   22.000000\n",
       "50%    101.500000   25.000000\n",
       "75%    150.750000   32.000000\n",
       "max    200.000000   58.000000"
      ]
     },
     "execution_count": 4,
     "metadata": {},
     "output_type": "execute_result"
    }
   ],
   "source": [
    "# Summary for numerical columns\n",
    "df_Fall_2022.describe()"
   ]
  },
  {
   "cell_type": "code",
   "execution_count": 5,
   "id": "9c547216",
   "metadata": {},
   "outputs": [
    {
     "name": "stdout",
     "output_type": "stream",
     "text": [
      "2\n"
     ]
    }
   ],
   "source": [
    "# Check for duplicates\n",
    "print(df_Fall_2022.duplicated().sum())\n"
   ]
  },
  {
   "cell_type": "code",
   "execution_count": 6,
   "id": "7208bdb7",
   "metadata": {},
   "outputs": [
    {
     "name": "stdout",
     "output_type": "stream",
     "text": [
      "          Term   ID Gender  Age Minority Students\n",
      "111  Fall 2022  111      M   25               Yes\n",
      "181  Fall 2022  180      M   27                No\n"
     ]
    }
   ],
   "source": [
    "# Check for duplicates\n",
    "duplicate_rows = df_Fall_2022[df_Fall_2022.duplicated()]\n",
    "print(duplicate_rows)"
   ]
  },
  {
   "cell_type": "markdown",
   "id": "fe8eef39",
   "metadata": {},
   "source": []
  },
  {
   "cell_type": "code",
   "execution_count": 7,
   "id": "4b0377d2",
   "metadata": {},
   "outputs": [],
   "source": [
    "# Drop the duplicates\n",
    "df_Fall_2022 = df_Fall_2022.drop_duplicates()"
   ]
  },
  {
   "cell_type": "code",
   "execution_count": 8,
   "id": "1c9934f1",
   "metadata": {},
   "outputs": [
    {
     "name": "stdout",
     "output_type": "stream",
     "text": [
      "0\n"
     ]
    }
   ],
   "source": [
    "print(df_Fall_2022.duplicated().sum())\n"
   ]
  },
  {
   "cell_type": "code",
   "execution_count": 9,
   "id": "3297dcb5",
   "metadata": {},
   "outputs": [
    {
     "data": {
      "text/plain": [
       "No     106\n",
       "Yes     94\n",
       "Name: Minority Students, dtype: int64"
      ]
     },
     "execution_count": 9,
     "metadata": {},
     "output_type": "execute_result"
    }
   ],
   "source": [
    "# Summary for non numerical columns\n",
    "df_Fall_2022['Minority Students'].value_counts()"
   ]
  },
  {
   "cell_type": "markdown",
   "id": "f5714c41",
   "metadata": {},
   "source": []
  },
  {
   "cell_type": "code",
   "execution_count": 10,
   "id": "b6f8c350",
   "metadata": {},
   "outputs": [
    {
     "data": {
      "text/plain": [
       "F    117\n",
       "M     83\n",
       "Name: Gender, dtype: int64"
      ]
     },
     "execution_count": 10,
     "metadata": {},
     "output_type": "execute_result"
    }
   ],
   "source": [
    "# Summary for non numerical columns\n",
    "df_Fall_2022['Gender'].value_counts()"
   ]
  },
  {
   "cell_type": "markdown",
   "id": "338e0cff",
   "metadata": {},
   "source": []
  },
  {
   "cell_type": "code",
   "execution_count": 11,
   "id": "f937386b",
   "metadata": {},
   "outputs": [
    {
     "data": {
      "text/html": [
       "<div>\n",
       "<style scoped>\n",
       "    .dataframe tbody tr th:only-of-type {\n",
       "        vertical-align: middle;\n",
       "    }\n",
       "\n",
       "    .dataframe tbody tr th {\n",
       "        vertical-align: top;\n",
       "    }\n",
       "\n",
       "    .dataframe thead th {\n",
       "        text-align: right;\n",
       "    }\n",
       "</style>\n",
       "<table border=\"1\" class=\"dataframe\">\n",
       "  <thead>\n",
       "    <tr style=\"text-align: right;\">\n",
       "      <th></th>\n",
       "      <th>Term</th>\n",
       "      <th>ID</th>\n",
       "      <th>Gender</th>\n",
       "      <th>Age</th>\n",
       "      <th>Minority Students</th>\n",
       "    </tr>\n",
       "  </thead>\n",
       "  <tbody>\n",
       "    <tr>\n",
       "      <th>0</th>\n",
       "      <td>Fall 2022</td>\n",
       "      <td>1</td>\n",
       "      <td>F</td>\n",
       "      <td>21</td>\n",
       "      <td>No</td>\n",
       "    </tr>\n",
       "    <tr>\n",
       "      <th>1</th>\n",
       "      <td>Fall 2022</td>\n",
       "      <td>2</td>\n",
       "      <td>F</td>\n",
       "      <td>22</td>\n",
       "      <td>No</td>\n",
       "    </tr>\n",
       "    <tr>\n",
       "      <th>2</th>\n",
       "      <td>Fall 2022</td>\n",
       "      <td>3</td>\n",
       "      <td>F</td>\n",
       "      <td>24</td>\n",
       "      <td>Yes</td>\n",
       "    </tr>\n",
       "    <tr>\n",
       "      <th>3</th>\n",
       "      <td>Fall 2022</td>\n",
       "      <td>4</td>\n",
       "      <td>F</td>\n",
       "      <td>26</td>\n",
       "      <td>Yes</td>\n",
       "    </tr>\n",
       "    <tr>\n",
       "      <th>4</th>\n",
       "      <td>Fall 2022</td>\n",
       "      <td>5</td>\n",
       "      <td>M</td>\n",
       "      <td>22</td>\n",
       "      <td>No</td>\n",
       "    </tr>\n",
       "    <tr>\n",
       "      <th>5</th>\n",
       "      <td>Fall 2022</td>\n",
       "      <td>6</td>\n",
       "      <td>M</td>\n",
       "      <td>26</td>\n",
       "      <td>No</td>\n",
       "    </tr>\n",
       "    <tr>\n",
       "      <th>6</th>\n",
       "      <td>Fall 2022</td>\n",
       "      <td>7</td>\n",
       "      <td>F</td>\n",
       "      <td>32</td>\n",
       "      <td>No</td>\n",
       "    </tr>\n",
       "    <tr>\n",
       "      <th>7</th>\n",
       "      <td>Fall 2022</td>\n",
       "      <td>8</td>\n",
       "      <td>F</td>\n",
       "      <td>35</td>\n",
       "      <td>Yes</td>\n",
       "    </tr>\n",
       "    <tr>\n",
       "      <th>8</th>\n",
       "      <td>Fall 2022</td>\n",
       "      <td>9</td>\n",
       "      <td>F</td>\n",
       "      <td>21</td>\n",
       "      <td>Yes</td>\n",
       "    </tr>\n",
       "    <tr>\n",
       "      <th>9</th>\n",
       "      <td>Fall 2022</td>\n",
       "      <td>10</td>\n",
       "      <td>M</td>\n",
       "      <td>22</td>\n",
       "      <td>No</td>\n",
       "    </tr>\n",
       "  </tbody>\n",
       "</table>\n",
       "</div>"
      ],
      "text/plain": [
       "        Term  ID Gender  Age Minority Students\n",
       "0  Fall 2022   1      F   21                No\n",
       "1  Fall 2022   2      F   22                No\n",
       "2  Fall 2022   3      F   24               Yes\n",
       "3  Fall 2022   4      F   26               Yes\n",
       "4  Fall 2022   5      M   22                No\n",
       "5  Fall 2022   6      M   26                No\n",
       "6  Fall 2022   7      F   32                No\n",
       "7  Fall 2022   8      F   35               Yes\n",
       "8  Fall 2022   9      F   21               Yes\n",
       "9  Fall 2022  10      M   22                No"
      ]
     },
     "execution_count": 11,
     "metadata": {},
     "output_type": "execute_result"
    }
   ],
   "source": [
    "df_Fall_2022.head(10)"
   ]
  },
  {
   "cell_type": "code",
   "execution_count": 12,
   "id": "6e694cfb",
   "metadata": {},
   "outputs": [
    {
     "name": "stdout",
     "output_type": "stream",
     "text": [
      "(200, 5)\n"
     ]
    }
   ],
   "source": [
    "print(df_Fall_2022.shape)"
   ]
  },
  {
   "cell_type": "code",
   "execution_count": 13,
   "id": "6eabbff1",
   "metadata": {},
   "outputs": [
    {
     "data": {
      "text/plain": [
       "Term                 0\n",
       "ID                   0\n",
       "Gender               0\n",
       "Age                  0\n",
       "Minority Students    0\n",
       "dtype: int64"
      ]
     },
     "execution_count": 13,
     "metadata": {},
     "output_type": "execute_result"
    }
   ],
   "source": [
    "# check null values\n",
    "df_Fall_2022.isna().sum()"
   ]
  },
  {
   "cell_type": "markdown",
   "id": "3fe56020",
   "metadata": {},
   "source": []
  },
  {
   "cell_type": "markdown",
   "id": "6b0a5d58",
   "metadata": {},
   "source": [
    "# Loading Dataset"
   ]
  },
  {
   "cell_type": "code",
   "execution_count": 14,
   "id": "7353e2fe",
   "metadata": {},
   "outputs": [
    {
     "name": "stdout",
     "output_type": "stream",
     "text": [
      "          Term   ID Received advising\n",
      "0    Fall 2022    1               Yes\n",
      "1    Fall 2022    2                No\n",
      "2    Fall 2022    3               Yes\n",
      "3    Fall 2022    4               Yes\n",
      "4    Fall 2022    5                No\n",
      "..         ...  ...               ...\n",
      "195  Fall 2022  196               Yes\n",
      "196  Fall 2022  197                No\n",
      "197  Fall 2022  198                No\n",
      "198  Fall 2022  199                No\n",
      "199  Fall 2022  200               Yes\n",
      "\n",
      "[200 rows x 3 columns]\n"
     ]
    }
   ],
   "source": [
    "# Loading Dataset\n",
    "df_Advising_status = pd.read_excel('Data set.xlsx', sheet_name = 'Advising status')\n",
    "print(df_Advising_status)"
   ]
  },
  {
   "cell_type": "code",
   "execution_count": 15,
   "id": "7a957c53",
   "metadata": {},
   "outputs": [
    {
     "name": "stdout",
     "output_type": "stream",
     "text": [
      "<class 'pandas.core.frame.DataFrame'>\n",
      "RangeIndex: 200 entries, 0 to 199\n",
      "Data columns (total 3 columns):\n",
      " #   Column             Non-Null Count  Dtype \n",
      "---  ------             --------------  ----- \n",
      " 0   Term               200 non-null    object\n",
      " 1   ID                 200 non-null    int64 \n",
      " 2   Received advising  200 non-null    object\n",
      "dtypes: int64(1), object(2)\n",
      "memory usage: 4.8+ KB\n"
     ]
    }
   ],
   "source": [
    "df_Advising_status.info()"
   ]
  },
  {
   "cell_type": "markdown",
   "id": "36dfd847",
   "metadata": {},
   "source": []
  },
  {
   "cell_type": "code",
   "execution_count": 16,
   "id": "704cc8ef",
   "metadata": {},
   "outputs": [
    {
     "name": "stdout",
     "output_type": "stream",
     "text": [
      "Empty DataFrame\n",
      "Columns: [Term, ID, Received advising]\n",
      "Index: []\n"
     ]
    }
   ],
   "source": [
    "duplicate_rows_1 = df_Advising_status[df_Advising_status.duplicated()]\n",
    "print(duplicate_rows_1)"
   ]
  },
  {
   "cell_type": "code",
   "execution_count": 17,
   "id": "e5c850e0",
   "metadata": {},
   "outputs": [
    {
     "data": {
      "text/plain": [
       "Term                 0\n",
       "ID                   0\n",
       "Received advising    0\n",
       "dtype: int64"
      ]
     },
     "execution_count": 17,
     "metadata": {},
     "output_type": "execute_result"
    }
   ],
   "source": [
    "df_Advising_status.isna().sum()"
   ]
  },
  {
   "cell_type": "code",
   "execution_count": 18,
   "id": "a2ef7129",
   "metadata": {},
   "outputs": [
    {
     "name": "stdout",
     "output_type": "stream",
     "text": [
      "(200, 3)\n"
     ]
    }
   ],
   "source": [
    "print(df_Advising_status.shape)"
   ]
  },
  {
   "cell_type": "code",
   "execution_count": 19,
   "id": "a285b280",
   "metadata": {},
   "outputs": [
    {
     "data": {
      "text/html": [
       "<div>\n",
       "<style scoped>\n",
       "    .dataframe tbody tr th:only-of-type {\n",
       "        vertical-align: middle;\n",
       "    }\n",
       "\n",
       "    .dataframe tbody tr th {\n",
       "        vertical-align: top;\n",
       "    }\n",
       "\n",
       "    .dataframe thead th {\n",
       "        text-align: right;\n",
       "    }\n",
       "</style>\n",
       "<table border=\"1\" class=\"dataframe\">\n",
       "  <thead>\n",
       "    <tr style=\"text-align: right;\">\n",
       "      <th></th>\n",
       "      <th>ID</th>\n",
       "    </tr>\n",
       "  </thead>\n",
       "  <tbody>\n",
       "    <tr>\n",
       "      <th>count</th>\n",
       "      <td>200.000000</td>\n",
       "    </tr>\n",
       "    <tr>\n",
       "      <th>mean</th>\n",
       "      <td>100.500000</td>\n",
       "    </tr>\n",
       "    <tr>\n",
       "      <th>std</th>\n",
       "      <td>57.879185</td>\n",
       "    </tr>\n",
       "    <tr>\n",
       "      <th>min</th>\n",
       "      <td>1.000000</td>\n",
       "    </tr>\n",
       "    <tr>\n",
       "      <th>25%</th>\n",
       "      <td>50.750000</td>\n",
       "    </tr>\n",
       "    <tr>\n",
       "      <th>50%</th>\n",
       "      <td>100.500000</td>\n",
       "    </tr>\n",
       "    <tr>\n",
       "      <th>75%</th>\n",
       "      <td>150.250000</td>\n",
       "    </tr>\n",
       "    <tr>\n",
       "      <th>max</th>\n",
       "      <td>200.000000</td>\n",
       "    </tr>\n",
       "  </tbody>\n",
       "</table>\n",
       "</div>"
      ],
      "text/plain": [
       "               ID\n",
       "count  200.000000\n",
       "mean   100.500000\n",
       "std     57.879185\n",
       "min      1.000000\n",
       "25%     50.750000\n",
       "50%    100.500000\n",
       "75%    150.250000\n",
       "max    200.000000"
      ]
     },
     "execution_count": 19,
     "metadata": {},
     "output_type": "execute_result"
    }
   ],
   "source": [
    "df_Advising_status.describe()"
   ]
  },
  {
   "cell_type": "markdown",
   "id": "a23f0f94",
   "metadata": {},
   "source": []
  },
  {
   "cell_type": "markdown",
   "id": "4dcfe3ce",
   "metadata": {},
   "source": [
    "# Merging the Dataset\n",
    "\n",
    "    -- Combine datasets (e.g., Fall 2022 and Advising Status) based on common keys (e.g., ID, Term) for comprehensive analysis.\n",
    "    -- Analyze the effect of advising status on age and other factors.\n"
   ]
  },
  {
   "cell_type": "code",
   "execution_count": 20,
   "id": "f1d325cb",
   "metadata": {},
   "outputs": [],
   "source": [
    "merged_df = pd.merge(df_Fall_2022, df_Advising_status, on=['ID','Term'])"
   ]
  },
  {
   "cell_type": "code",
   "execution_count": 21,
   "id": "6302be6e",
   "metadata": {},
   "outputs": [],
   "source": [
    "# df_Advising_status['ID'].value_counts()"
   ]
  },
  {
   "cell_type": "code",
   "execution_count": 22,
   "id": "7f9e2465",
   "metadata": {},
   "outputs": [
    {
     "data": {
      "text/html": [
       "<div>\n",
       "<style scoped>\n",
       "    .dataframe tbody tr th:only-of-type {\n",
       "        vertical-align: middle;\n",
       "    }\n",
       "\n",
       "    .dataframe tbody tr th {\n",
       "        vertical-align: top;\n",
       "    }\n",
       "\n",
       "    .dataframe thead th {\n",
       "        text-align: right;\n",
       "    }\n",
       "</style>\n",
       "<table border=\"1\" class=\"dataframe\">\n",
       "  <thead>\n",
       "    <tr style=\"text-align: right;\">\n",
       "      <th></th>\n",
       "      <th>Term</th>\n",
       "      <th>ID</th>\n",
       "      <th>Gender</th>\n",
       "      <th>Age</th>\n",
       "      <th>Minority Students</th>\n",
       "      <th>Received advising</th>\n",
       "    </tr>\n",
       "  </thead>\n",
       "  <tbody>\n",
       "    <tr>\n",
       "      <th>0</th>\n",
       "      <td>Fall 2022</td>\n",
       "      <td>1</td>\n",
       "      <td>F</td>\n",
       "      <td>21</td>\n",
       "      <td>No</td>\n",
       "      <td>Yes</td>\n",
       "    </tr>\n",
       "    <tr>\n",
       "      <th>1</th>\n",
       "      <td>Fall 2022</td>\n",
       "      <td>2</td>\n",
       "      <td>F</td>\n",
       "      <td>22</td>\n",
       "      <td>No</td>\n",
       "      <td>No</td>\n",
       "    </tr>\n",
       "    <tr>\n",
       "      <th>2</th>\n",
       "      <td>Fall 2022</td>\n",
       "      <td>3</td>\n",
       "      <td>F</td>\n",
       "      <td>24</td>\n",
       "      <td>Yes</td>\n",
       "      <td>Yes</td>\n",
       "    </tr>\n",
       "    <tr>\n",
       "      <th>3</th>\n",
       "      <td>Fall 2022</td>\n",
       "      <td>4</td>\n",
       "      <td>F</td>\n",
       "      <td>26</td>\n",
       "      <td>Yes</td>\n",
       "      <td>Yes</td>\n",
       "    </tr>\n",
       "    <tr>\n",
       "      <th>4</th>\n",
       "      <td>Fall 2022</td>\n",
       "      <td>5</td>\n",
       "      <td>M</td>\n",
       "      <td>22</td>\n",
       "      <td>No</td>\n",
       "      <td>No</td>\n",
       "    </tr>\n",
       "    <tr>\n",
       "      <th>5</th>\n",
       "      <td>Fall 2022</td>\n",
       "      <td>6</td>\n",
       "      <td>M</td>\n",
       "      <td>26</td>\n",
       "      <td>No</td>\n",
       "      <td>Yes</td>\n",
       "    </tr>\n",
       "    <tr>\n",
       "      <th>6</th>\n",
       "      <td>Fall 2022</td>\n",
       "      <td>7</td>\n",
       "      <td>F</td>\n",
       "      <td>32</td>\n",
       "      <td>No</td>\n",
       "      <td>No</td>\n",
       "    </tr>\n",
       "    <tr>\n",
       "      <th>7</th>\n",
       "      <td>Fall 2022</td>\n",
       "      <td>8</td>\n",
       "      <td>F</td>\n",
       "      <td>35</td>\n",
       "      <td>Yes</td>\n",
       "      <td>Yes</td>\n",
       "    </tr>\n",
       "    <tr>\n",
       "      <th>8</th>\n",
       "      <td>Fall 2022</td>\n",
       "      <td>9</td>\n",
       "      <td>F</td>\n",
       "      <td>21</td>\n",
       "      <td>Yes</td>\n",
       "      <td>No</td>\n",
       "    </tr>\n",
       "    <tr>\n",
       "      <th>9</th>\n",
       "      <td>Fall 2022</td>\n",
       "      <td>10</td>\n",
       "      <td>M</td>\n",
       "      <td>22</td>\n",
       "      <td>No</td>\n",
       "      <td>No</td>\n",
       "    </tr>\n",
       "  </tbody>\n",
       "</table>\n",
       "</div>"
      ],
      "text/plain": [
       "        Term  ID Gender  Age Minority Students Received advising\n",
       "0  Fall 2022   1      F   21                No               Yes\n",
       "1  Fall 2022   2      F   22                No                No\n",
       "2  Fall 2022   3      F   24               Yes               Yes\n",
       "3  Fall 2022   4      F   26               Yes               Yes\n",
       "4  Fall 2022   5      M   22                No                No\n",
       "5  Fall 2022   6      M   26                No               Yes\n",
       "6  Fall 2022   7      F   32                No                No\n",
       "7  Fall 2022   8      F   35               Yes               Yes\n",
       "8  Fall 2022   9      F   21               Yes                No\n",
       "9  Fall 2022  10      M   22                No                No"
      ]
     },
     "execution_count": 22,
     "metadata": {},
     "output_type": "execute_result"
    }
   ],
   "source": [
    "merged_df.head(10)"
   ]
  },
  {
   "cell_type": "code",
   "execution_count": 23,
   "id": "e55b1b0e",
   "metadata": {},
   "outputs": [],
   "source": [
    "merged_df.to_excel(\"Fall_2022_merged.xlsx\")"
   ]
  },
  {
   "cell_type": "code",
   "execution_count": 24,
   "id": "0407fa88",
   "metadata": {},
   "outputs": [
    {
     "data": {
      "text/plain": [
       "No     104\n",
       "Yes     96\n",
       "Name: Received advising, dtype: int64"
      ]
     },
     "execution_count": 24,
     "metadata": {},
     "output_type": "execute_result"
    }
   ],
   "source": [
    "merged_df['Received advising'].value_counts()"
   ]
  },
  {
   "cell_type": "code",
   "execution_count": 68,
   "id": "3cd601b1",
   "metadata": {},
   "outputs": [
    {
     "data": {
      "text/plain": [
       "No     106\n",
       "Yes     94\n",
       "Name: Minority Students, dtype: int64"
      ]
     },
     "execution_count": 68,
     "metadata": {},
     "output_type": "execute_result"
    }
   ],
   "source": [
    "merged_df['Minority Students'].value_counts()"
   ]
  },
  {
   "cell_type": "code",
   "execution_count": 25,
   "id": "0e642526",
   "metadata": {},
   "outputs": [
    {
     "data": {
      "text/plain": [
       "Fall 2022    200\n",
       "Name: Term, dtype: int64"
      ]
     },
     "execution_count": 25,
     "metadata": {},
     "output_type": "execute_result"
    }
   ],
   "source": [
    "merged_df['Term'].value_counts()"
   ]
  },
  {
   "cell_type": "code",
   "execution_count": 26,
   "id": "e18b4f1e",
   "metadata": {},
   "outputs": [
    {
     "data": {
      "text/plain": [
       "(200, 6)"
      ]
     },
     "execution_count": 26,
     "metadata": {},
     "output_type": "execute_result"
    }
   ],
   "source": [
    "merged_df.shape"
   ]
  },
  {
   "cell_type": "code",
   "execution_count": 27,
   "id": "4e13020a",
   "metadata": {},
   "outputs": [
    {
     "data": {
      "text/plain": [
       "Term                 0\n",
       "ID                   0\n",
       "Gender               0\n",
       "Age                  0\n",
       "Minority Students    0\n",
       "Received advising    0\n",
       "dtype: int64"
      ]
     },
     "execution_count": 27,
     "metadata": {},
     "output_type": "execute_result"
    }
   ],
   "source": [
    "merged_df.isna().sum()"
   ]
  },
  {
   "cell_type": "code",
   "execution_count": 28,
   "id": "85d283ba",
   "metadata": {},
   "outputs": [
    {
     "name": "stdout",
     "output_type": "stream",
     "text": [
      "0\n"
     ]
    }
   ],
   "source": [
    "# Check for duplicates\n",
    "print(merged_df.duplicated().sum())\n"
   ]
  },
  {
   "cell_type": "markdown",
   "id": "7a7be008",
   "metadata": {},
   "source": [
    "# Dataset after merging "
   ]
  },
  {
   "cell_type": "code",
   "execution_count": 29,
   "id": "1d5e78a2",
   "metadata": {},
   "outputs": [
    {
     "data": {
      "text/html": [
       "<div>\n",
       "<style scoped>\n",
       "    .dataframe tbody tr th:only-of-type {\n",
       "        vertical-align: middle;\n",
       "    }\n",
       "\n",
       "    .dataframe tbody tr th {\n",
       "        vertical-align: top;\n",
       "    }\n",
       "\n",
       "    .dataframe thead th {\n",
       "        text-align: right;\n",
       "    }\n",
       "</style>\n",
       "<table border=\"1\" class=\"dataframe\">\n",
       "  <thead>\n",
       "    <tr style=\"text-align: right;\">\n",
       "      <th></th>\n",
       "      <th>Term</th>\n",
       "      <th>ID</th>\n",
       "      <th>Gender</th>\n",
       "      <th>Age</th>\n",
       "      <th>Minority Students</th>\n",
       "      <th>Received advising</th>\n",
       "    </tr>\n",
       "  </thead>\n",
       "  <tbody>\n",
       "    <tr>\n",
       "      <th>0</th>\n",
       "      <td>Fall 2022</td>\n",
       "      <td>1</td>\n",
       "      <td>F</td>\n",
       "      <td>21</td>\n",
       "      <td>No</td>\n",
       "      <td>Yes</td>\n",
       "    </tr>\n",
       "    <tr>\n",
       "      <th>1</th>\n",
       "      <td>Fall 2022</td>\n",
       "      <td>2</td>\n",
       "      <td>F</td>\n",
       "      <td>22</td>\n",
       "      <td>No</td>\n",
       "      <td>No</td>\n",
       "    </tr>\n",
       "    <tr>\n",
       "      <th>2</th>\n",
       "      <td>Fall 2022</td>\n",
       "      <td>3</td>\n",
       "      <td>F</td>\n",
       "      <td>24</td>\n",
       "      <td>Yes</td>\n",
       "      <td>Yes</td>\n",
       "    </tr>\n",
       "    <tr>\n",
       "      <th>3</th>\n",
       "      <td>Fall 2022</td>\n",
       "      <td>4</td>\n",
       "      <td>F</td>\n",
       "      <td>26</td>\n",
       "      <td>Yes</td>\n",
       "      <td>Yes</td>\n",
       "    </tr>\n",
       "    <tr>\n",
       "      <th>4</th>\n",
       "      <td>Fall 2022</td>\n",
       "      <td>5</td>\n",
       "      <td>M</td>\n",
       "      <td>22</td>\n",
       "      <td>No</td>\n",
       "      <td>No</td>\n",
       "    </tr>\n",
       "    <tr>\n",
       "      <th>...</th>\n",
       "      <td>...</td>\n",
       "      <td>...</td>\n",
       "      <td>...</td>\n",
       "      <td>...</td>\n",
       "      <td>...</td>\n",
       "      <td>...</td>\n",
       "    </tr>\n",
       "    <tr>\n",
       "      <th>195</th>\n",
       "      <td>Fall 2022</td>\n",
       "      <td>196</td>\n",
       "      <td>F</td>\n",
       "      <td>36</td>\n",
       "      <td>Yes</td>\n",
       "      <td>Yes</td>\n",
       "    </tr>\n",
       "    <tr>\n",
       "      <th>196</th>\n",
       "      <td>Fall 2022</td>\n",
       "      <td>197</td>\n",
       "      <td>M</td>\n",
       "      <td>18</td>\n",
       "      <td>No</td>\n",
       "      <td>No</td>\n",
       "    </tr>\n",
       "    <tr>\n",
       "      <th>197</th>\n",
       "      <td>Fall 2022</td>\n",
       "      <td>198</td>\n",
       "      <td>F</td>\n",
       "      <td>34</td>\n",
       "      <td>Yes</td>\n",
       "      <td>No</td>\n",
       "    </tr>\n",
       "    <tr>\n",
       "      <th>198</th>\n",
       "      <td>Fall 2022</td>\n",
       "      <td>199</td>\n",
       "      <td>M</td>\n",
       "      <td>36</td>\n",
       "      <td>No</td>\n",
       "      <td>No</td>\n",
       "    </tr>\n",
       "    <tr>\n",
       "      <th>199</th>\n",
       "      <td>Fall 2022</td>\n",
       "      <td>200</td>\n",
       "      <td>F</td>\n",
       "      <td>58</td>\n",
       "      <td>Yes</td>\n",
       "      <td>Yes</td>\n",
       "    </tr>\n",
       "  </tbody>\n",
       "</table>\n",
       "<p>200 rows × 6 columns</p>\n",
       "</div>"
      ],
      "text/plain": [
       "          Term   ID Gender  Age Minority Students Received advising\n",
       "0    Fall 2022    1      F   21                No               Yes\n",
       "1    Fall 2022    2      F   22                No                No\n",
       "2    Fall 2022    3      F   24               Yes               Yes\n",
       "3    Fall 2022    4      F   26               Yes               Yes\n",
       "4    Fall 2022    5      M   22                No                No\n",
       "..         ...  ...    ...  ...               ...               ...\n",
       "195  Fall 2022  196      F   36               Yes               Yes\n",
       "196  Fall 2022  197      M   18                No                No\n",
       "197  Fall 2022  198      F   34               Yes                No\n",
       "198  Fall 2022  199      M   36                No                No\n",
       "199  Fall 2022  200      F   58               Yes               Yes\n",
       "\n",
       "[200 rows x 6 columns]"
      ]
     },
     "execution_count": 29,
     "metadata": {},
     "output_type": "execute_result"
    }
   ],
   "source": [
    "merged_df"
   ]
  },
  {
   "cell_type": "code",
   "execution_count": null,
   "id": "8bd2f71c",
   "metadata": {},
   "outputs": [],
   "source": []
  },
  {
   "cell_type": "markdown",
   "id": "81565ef3",
   "metadata": {},
   "source": [
    "# Exploratory Data Analysis (EDA):\n",
    "\n",
    "    -- Analyze numerical and categorical data using summaries, counts, and value distributions.\n",
    "    -- Visualize data patterns and relationships (e.g., histograms, bar charts, heatmaps).\n"
   ]
  },
  {
   "cell_type": "markdown",
   "id": "b376ca24",
   "metadata": {},
   "source": [
    "# Histogram of Gender Distribution"
   ]
  },
  {
   "cell_type": "code",
   "execution_count": 30,
   "id": "e1b2a6ca",
   "metadata": {},
   "outputs": [
    {
     "data": {
      "image/png": "[encoded data removed]",
      "text/plain": [
       "<Figure size 432x288 with 1 Axes>"
      ]
     },
     "metadata": {
      "needs_background": "light"
     },
     "output_type": "display_data"
    }
   ],
   "source": [
    "# Count the frequency of each gender\n",
    "gender_counts = merged_df[\"Gender\"].value_counts()\n",
    "\n",
    "# Create the histogram\n",
    "plt.bar(gender_counts.index, gender_counts.values, color=[\"skyblue\", \"orange\"])\n",
    "plt.title(\"Histogram of Gender Distribution\")\n",
    "plt.xlabel(\"Gender\")\n",
    "plt.ylabel(\"Frequency\")\n",
    "plt.xticks(ticks=range(len(gender_counts.index)), labels=gender_counts.index)\n",
    "plt.grid(axis='y', linestyle='--', alpha=0.7)\n",
    "plt.show()"
   ]
  },
  {
   "cell_type": "markdown",
   "id": "2626f08f",
   "metadata": {},
   "source": [
    "# Histogram of Ages"
   ]
  },
  {
   "cell_type": "code",
   "execution_count": 31,
   "id": "a9cd1e7c",
   "metadata": {},
   "outputs": [
    {
     "data": {
      "image/png": "[encoded data removed]",
      "text/plain": [
       "<Figure size 432x288 with 1 Axes>"
      ]
     },
     "metadata": {
      "needs_background": "light"
     },
     "output_type": "display_data"
    }
   ],
   "source": [
    "plt.hist(merged_df[\"Age\"], bins=5, color=\"purple\", alpha=0.7, edgecolor=\"black\")\n",
    "plt.title(\"Histogram of Ages\")\n",
    "plt.xlabel(\"Age\")\n",
    "plt.ylabel(\"Frequency\")\n",
    "plt.grid(axis='y', linestyle='--', alpha=0.7)\n",
    "plt.show()\n"
   ]
  },
  {
   "cell_type": "markdown",
   "id": "876594fc",
   "metadata": {},
   "source": [
    "# Age Groups by Gender"
   ]
  },
  {
   "cell_type": "code",
   "execution_count": 32,
   "id": "df426a91",
   "metadata": {},
   "outputs": [
    {
     "data": {
      "image/png": "[encoded data removed]",
      "text/plain": [
       "<Figure size 432x288 with 1 Axes>"
      ]
     },
     "metadata": {
      "needs_background": "light"
     },
     "output_type": "display_data"
    }
   ],
   "source": [
    "merged_df['Age Group'] = pd.cut(merged_df['Age'], bins=[20, 25, 30, 35, 40], labels=[\"20-25\", \"25-30\", \"30-35\", \"35-40\"])\n",
    "age_group_counts = merged_df.groupby(['Gender', 'Age Group']).size().unstack()\n",
    "age_group_counts.plot(kind='bar', stacked=True, color=[\"cyan\", \"magenta\", \"yellow\", \"lime\"])\n",
    "plt.title(\"Age Groups by Gender\")\n",
    "plt.xlabel(\"Gender\")\n",
    "plt.ylabel(\"Count\")\n",
    "plt.legend(title=\"Age Group\")\n",
    "plt.show()"
   ]
  },
  {
   "cell_type": "markdown",
   "id": "40e18910",
   "metadata": {},
   "source": [
    "# Minority Status Distribution by Gender"
   ]
  },
  {
   "cell_type": "code",
   "execution_count": 34,
   "id": "5214d71e",
   "metadata": {},
   "outputs": [
    {
     "data": {
      "image/png": "[encoded data removed]",
      "text/plain": [
       "<Figure size 432x288 with 1 Axes>"
      ]
     },
     "metadata": {
      "needs_background": "light"
     },
     "output_type": "display_data"
    }
   ],
   "source": [
    "# Group data by Gender and Minority Status\n",
    "minority_counts_gender = merged_df.groupby(['Gender', 'Minority Students']).size().unstack()\n",
    "\n",
    "# Visualization\n",
    "minority_counts_gender.plot(kind='bar', stacked=True, color=[\"lightblue\", \"salmon\"])\n",
    "plt.title(\"Minority Status Distribution by Gender\")\n",
    "plt.xlabel(\"Gender\")\n",
    "plt.ylabel(\"Count\")\n",
    "plt.legend(title=\"Minority Status\", labels=[\"No\", \"Yes\"])\n",
    "plt.grid(axis='y', linestyle='--', alpha=0.7)\n",
    "plt.xticks(rotation=0)\n",
    "plt.show()"
   ]
  },
  {
   "cell_type": "code",
   "execution_count": null,
   "id": "e9838029",
   "metadata": {},
   "outputs": [],
   "source": []
  },
  {
   "cell_type": "markdown",
   "id": "f5dad468",
   "metadata": {},
   "source": [
    "# Statistical Testing:\n",
    "\n",
    "    -- Conduct T-tests to compare means (e.g., minority vs. non-minority students, advised vs. non-advised students).\n",
    "    -- Perform Chi-Square tests to explore relationships between categorical variables (e.g., gender and minority status).\n"
   ]
  },
  {
   "cell_type": "markdown",
   "id": "a9df98ce",
   "metadata": {},
   "source": [
    "# T-Test (Minority vs Non-Minority Age Differences)\n"
   ]
  },
  {
   "cell_type": "code",
   "execution_count": 36,
   "id": "ecd3b23c",
   "metadata": {},
   "outputs": [
    {
     "name": "stdout",
     "output_type": "stream",
     "text": [
      "T-Statistic: -0.28455364751528384, P-Value: 0.7762835111866382\n"
     ]
    }
   ],
   "source": [
    "from scipy import stats\n",
    "\n",
    "\n",
    "minority = merged_df[merged_df['Minority Students'] == 'Yes']['Age']\n",
    "# print(minority)\n",
    "non_minority = merged_df[merged_df['Minority Students'] == 'No']['Age']\n",
    "# print(non_minority)\n",
    "\n",
    "t_stat, p_value = stats.ttest_ind(minority, non_minority)\n",
    "print(f\"T-Statistic: {t_stat}, P-Value: {p_value}\")\n"
   ]
  },
  {
   "cell_type": "markdown",
   "id": "26e3c5ba",
   "metadata": {},
   "source": [
    "Explanation of the T-Test Results:\n",
    "\n",
    "What the T-Test does:\n",
    "\n",
    "The independent sample t-test is used to compare the means of two independent groups (e.g., Minority vs. Non-Minority students) to determine if there is a statistically significant difference between their average ages.\n",
    "\n",
    "Result Interpretation:\n",
    "\n",
    "T-Statistic: -0.28\n",
    "The negative value indicates that the mean age for minority students is slightly lower than for non-minority students. However, the magnitude of the T-Statistic is very small, meaning the difference between the means is negligible.\n",
    "\n",
    "P-Value: 0.776\n",
    "The p-value is much larger than the conventional significance threshold (0.05). This means that we fail to reject the null hypothesis. In simpler terms, there is no evidence to suggest that the average age of minority and non-minority students is significantly different.\n"
   ]
  },
  {
   "cell_type": "code",
   "execution_count": 37,
   "id": "6f2b9c36",
   "metadata": {},
   "outputs": [
    {
     "name": "stdout",
     "output_type": "stream",
     "text": [
      "Average age of minority students: 27.73404255319149\n",
      "Average age of non-minority students: 28.07547169811321\n"
     ]
    }
   ],
   "source": [
    "minority_ages = merged_df[merged_df[\"Minority Students\"] == \"Yes\"][\"Age\"].mean()\n",
    "non_minority_ages = merged_df[merged_df[\"Minority Students\"] == \"No\"][\"Age\"].mean()\n",
    "\n",
    "print(f\"Average age of minority students: {minority_ages}\")\n",
    "print(f\"Average age of non-minority students: {non_minority_ages}\")"
   ]
  },
  {
   "cell_type": "markdown",
   "id": "dee855e1",
   "metadata": {},
   "source": []
  },
  {
   "cell_type": "markdown",
   "id": "64192851",
   "metadata": {},
   "source": [
    "#  Chi-Square Test (Gender vs Minority Status)\n"
   ]
  },
  {
   "cell_type": "code",
   "execution_count": 38,
   "id": "6db7c778",
   "metadata": {},
   "outputs": [
    {
     "name": "stdout",
     "output_type": "stream",
     "text": [
      "Chi-Square: 0.01985109528893674, P-Value: 0.8879537493079529\n"
     ]
    }
   ],
   "source": [
    "\n",
    "contingency_table = pd.crosstab(merged_df['Gender'], merged_df['Minority Students'])\n",
    "chi2, p, dof, ex = stats.chi2_contingency(contingency_table)\n",
    "print(f\"Chi-Square: {chi2}, P-Value: {p}\")\n"
   ]
  },
  {
   "cell_type": "markdown",
   "id": "dc3b3b40",
   "metadata": {},
   "source": [
    "Explanation of the Chi-Square Test Results:\n",
    "    \n",
    "What the Chi-Square Test does:\n",
    "\n",
    "The Chi-Square test of independence checks if there is a statistically significant association between two categorical variables.\n",
    "In this case, it is used to test if there is a relationship between Gender and Minority Students.\n",
    "\n",
    "Result Interpretation:\n",
    "\n",
    "Chi-Square Statistic (χ²): 0.01985\n",
    "    \n",
    "This low value indicates that the observed and expected frequencies in the contingency table are very close, meaning there is very little difference between the two groups.\n",
    "\n",
    "P-Value: 0.8879\n",
    "\n",
    "The p-value is much larger than the conventional threshold of 0.05. Therefore, we fail to reject the null hypothesis, indicating no evidence of a statistically significant relationship between Gender and Minority Status.\n",
    "\n"
   ]
  },
  {
   "cell_type": "markdown",
   "id": "e424873f",
   "metadata": {},
   "source": [
    "# Age by Advising Status (T-Test)"
   ]
  },
  {
   "cell_type": "code",
   "execution_count": 39,
   "id": "997b1d16",
   "metadata": {},
   "outputs": [
    {
     "name": "stdout",
     "output_type": "stream",
     "text": [
      "T-Statistic: 0.7220847054106322, P-Value: 0.4710943221971522\n"
     ]
    }
   ],
   "source": [
    "advised = merged_df[merged_df['Received advising'] == 'Yes']['Age']\n",
    "not_advised = merged_df[merged_df['Received advising'] == 'No']['Age']\n",
    "t_stat, p_value = stats.ttest_ind(advised, not_advised)\n",
    "print(f\"T-Statistic: {t_stat}, P-Value: {p_value}\")\n"
   ]
  },
  {
   "cell_type": "markdown",
   "id": "e57c91ab",
   "metadata": {},
   "source": [
    "Explanation of the T-Test Results:\n",
    "1. Purpose of the Test:\n",
    "The goal is to compare the mean age of students who received advising (advised) versus those who did not receive advising (not_advised). A t-test is used to check if there is a statistically significant difference between the two groups.\n",
    "\n",
    "\n",
    "2. T-Statistic:\n",
    "The t-statistic (0.722) indicates the difference between the means of the two groups relative to the variability in the data. A small t-statistic means the difference between the groups is small compared to the variability.\n",
    "\n",
    "\n",
    "3. P-Value:\n",
    "The p-value (0.471) tells us the probability of observing the data (or something more extreme) assuming that the two groups have no difference in their means (null hypothesis).\n",
    "\n",
    "\n",
    "High p-value (> 0.05): There is no evidence to reject the null hypothesis. This means the observed difference in ages between the advised and not-advised groups is likely due to chance and not statistically significant.\n",
    "\n",
    "4. Conclusion:\n",
    "Interpretation: There is no significant difference in the mean ages of students who received advising and those who did not.\n",
    "Reason: The p-value is much greater than 0.05, so the null hypothesis (no difference in means) is retained.\n"
   ]
  },
  {
   "cell_type": "code",
   "execution_count": null,
   "id": "82c41fb9",
   "metadata": {},
   "outputs": [],
   "source": []
  },
  {
   "cell_type": "code",
   "execution_count": null,
   "id": "d867f9a4",
   "metadata": {},
   "outputs": [],
   "source": []
  }
 ],
 "metadata": {
  "kernelspec": {
   "display_name": "Python 3 (ipykernel)",
   "language": "python",
   "name": "python3"
  },
  "language_info": {
   "codemirror_mode": {
    "name": "ipython",
    "version": 3
   },
   "file_extension": ".py",
   "mimetype": "text/x-python",
   "name": "python",
   "nbconvert_exporter": "python",
   "pygments_lexer": "ipython3",
   "version": "3.9.12"
  }
 },
 "nbformat": 4,
 "nbformat_minor": 5
}
